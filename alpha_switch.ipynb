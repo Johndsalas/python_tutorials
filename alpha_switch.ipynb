{
 "cells": [
  {
   "cell_type": "markdown",
   "metadata": {},
   "source": [
    "Suggested problem-solving steps:\n",
    "\n",
    "1) Write down what you want the code to do in English before you try to solve the problem with code.\n",
    "\n",
    "2) solve the smallest part of the problem first then add in the more complex parts."
   ]
  },
  {
   "cell_type": "markdown",
   "metadata": {},
   "source": [
    "### Example: write a function that takes in a list of strings and returns that list with the first character in the string moved to the back"
   ]
  },
  {
   "cell_type": "code",
   "execution_count": 1,
   "metadata": {},
   "outputs": [],
   "source": [
    "# 1\n",
    "\n",
    "# iterate through a list of strings\n",
    "\n",
    "# For each string in the list:\n",
    "# assign the firt character as a variable\n",
    "# assign the remaining characters as a seperate veriable\n",
    "# combine those veriables into a new veriable \n",
    "# add that veriable to a new list \n",
    "\n",
    "# then return the new list"
   ]
  },
  {
   "cell_type": "markdown",
   "metadata": {},
   "source": [
    "### The above part of the process is important when learning new material. Do not skip!"
   ]
  },
  {
   "cell_type": "code",
   "execution_count": 9,
   "metadata": {},
   "outputs": [
    {
     "name": "stdout",
     "output_type": "stream",
     "text": [
      "a\n",
      "pple\n"
     ]
    }
   ],
   "source": [
    "#2-1 Begin by solving the problem with no loop pretend there is only one veriable\n",
    "\n",
    "item = \"apple\"\n",
    "\n",
    "# do the assignments first\n",
    "\n",
    "# assign the first character as a variable\n",
    "\n",
    "first = item[0]\n",
    "\n",
    "print(first)\n",
    "\n",
    "# assign the remaining characters as a seperate veriable\n",
    "\n",
    "not_first = item[1:]\n",
    "\n",
    "print(not_first)\n"
   ]
  },
  {
   "cell_type": "code",
   "execution_count": 10,
   "metadata": {},
   "outputs": [
    {
     "name": "stdout",
     "output_type": "stream",
     "text": [
      "pplea\n"
     ]
    }
   ],
   "source": [
    "# combine those veriables into a new veriable \n",
    "\n",
    "new_item = not_first + first\n",
    "\n",
    "print(new_item)"
   ]
  },
  {
   "cell_type": "code",
   "execution_count": 11,
   "metadata": {},
   "outputs": [
    {
     "name": "stdout",
     "output_type": "stream",
     "text": [
      "['pplea']\n"
     ]
    }
   ],
   "source": [
    "# add that veriable to a new list (dont forget to add a new empty list)\n",
    "\n",
    "new_li = []\n",
    "\n",
    "new_li.append(new_item)\n",
    "\n",
    "print(new_li)"
   ]
  },
  {
   "cell_type": "code",
   "execution_count": 13,
   "metadata": {},
   "outputs": [
    {
     "name": "stdout",
     "output_type": "stream",
     "text": [
      "['pplea', 'angom', 'ananab', 'ineapplep', 'atermellonw']\n"
     ]
    }
   ],
   "source": [
    "#2-2 now write a loop to itterate through the list and apply the code you just wrote to the loop\n",
    "\n",
    "# beginning list\n",
    "li = [\"apple\", \"mango\", \"banana\", \"pineapple\", \"watermellon\"]\n",
    "\n",
    "# list to be filled\n",
    "new_li = []\n",
    "\n",
    "for item in li:\n",
    "    \n",
    "    # assign the first character as a variable\n",
    "\n",
    "    first = item[0]\n",
    "\n",
    "    # assign the remaining characters as a seperate veriable\n",
    "\n",
    "    not_first = item[1:]\n",
    "\n",
    "    # combine those veriables into a new veriable \n",
    "\n",
    "    new_item = not_first + first\n",
    "    \n",
    "    # add that veriable to a new list\n",
    "\n",
    "    new_li.append(new_item)\n",
    "\n",
    "print(new_li)\n",
    "    "
   ]
  },
  {
   "cell_type": "code",
   "execution_count": 15,
   "metadata": {},
   "outputs": [
    {
     "data": {
      "text/plain": [
       "['pplea', 'angom', 'ananab', 'ineapplep', 'atermellonw']"
      ]
     },
     "execution_count": 15,
     "metadata": {},
     "output_type": "execute_result"
    }
   ],
   "source": [
    "#2-3 now write a function around the loop you just wrote\n",
    "\n",
    "li = [\"apple\", \"mango\", \"banana\", \"pineapple\", \"watermellon\"]\n",
    "\n",
    "def first_last(li):\n",
    "    \n",
    "    # list to be filled\n",
    "    new_li = []\n",
    "\n",
    "    for item in li:\n",
    "\n",
    "        # assign the first character as a variable\n",
    "\n",
    "        first = item[0]\n",
    "\n",
    "        # assign the remaining characters as a seperate veriable\n",
    "\n",
    "        not_first = item[1:]\n",
    "\n",
    "        # combine those veriables into a new veriable \n",
    "\n",
    "        new_item = not_first + first\n",
    "\n",
    "        # add that veriable to a new list\n",
    "\n",
    "        new_li.append(new_item)\n",
    "        \n",
    "    return new_li\n",
    "\n",
    "first_last(li)"
   ]
  }
 ],
 "metadata": {
  "kernelspec": {
   "display_name": "Python 3",
   "language": "python",
   "name": "python3"
  },
  "language_info": {
   "codemirror_mode": {
    "name": "ipython",
    "version": 3
   },
   "file_extension": ".py",
   "mimetype": "text/x-python",
   "name": "python",
   "nbconvert_exporter": "python",
   "pygments_lexer": "ipython3",
   "version": "3.7.4"
  }
 },
 "nbformat": 4,
 "nbformat_minor": 2
}
